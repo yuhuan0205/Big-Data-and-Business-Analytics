{
 "cells": [
  {
   "cell_type": "markdown",
   "metadata": {},
   "source": [
    "# 匯入資料集"
   ]
  },
  {
   "cell_type": "code",
   "execution_count": 196,
   "metadata": {},
   "outputs": [],
   "source": [
    "import pandas as pd\n",
    "#關鍵字列表\n",
    "keywords = pd.read_excel(\"D:/UserData/Desktop/big data/國巨_news_各指標-2.xlsx\",sheet_name = \"關鍵字\",encoding = \"big5\")\n",
    "#看漲資料集\n",
    "news_up = pd.read_excel(\"D:/UserData/Desktop/big data/國巨_news_up&down_5%.xlsx\",sheet_name = \"up\",encoding = \"big5\")\n",
    "#看跌資料集\n",
    "news_down = pd.read_excel(\"D:/UserData/Desktop/big data/國巨_news_up&down_5%.xlsx\",sheet_name = \"down\",encoding = \"big5\")"
   ]
  },
  {
   "cell_type": "code",
   "execution_count": 197,
   "metadata": {},
   "outputs": [],
   "source": [
    "#建立關鍵字的向量空間(以前200個關鍵字為例)\n",
    "words = []\n",
    "for i in range(200):\n",
    "    words.append(keywords[\"Collection\"][i]) "
   ]
  },
  {
   "cell_type": "code",
   "execution_count": 198,
   "metadata": {},
   "outputs": [],
   "source": [
    "#在漲跟跌的的文章後分別加入\"up\" or \"down\" 的標籤\n",
    "label_up = []\n",
    "for i in range(len(news_up[\"content\"])):\n",
    "    label_up.append(\"up\")\n",
    "label_down = []\n",
    "for i in range(len(news_down[\"content\"])):\n",
    "    label_down.append(\"down\")"
   ]
  },
  {
   "cell_type": "code",
   "execution_count": 199,
   "metadata": {},
   "outputs": [],
   "source": [
    "#新增label的欄位，後合併漲跟跌的資料集\n",
    "datafram_up = pd.DataFrame({'date':news_up.date,'title':news_up.title,\"content\":news_up.content,\"label\":label_up})\n",
    "datafram_down = pd.DataFrame({'date':news_down.date,'title':news_down.title,\"content\":news_down.content,\"label\":label_down})\n",
    "datafram = pd.merge(datafram_up,datafram_down, on =[\"date\",'title',\"content\",\"label\"],how = \"outer\") "
   ]
  },
  {
   "cell_type": "code",
   "execution_count": 200,
   "metadata": {},
   "outputs": [],
   "source": [
    "#拆分成 訓練集8 : 測試集2 \n",
    "datafram = datafram.sample(frac = 1)\n",
    "train = datafram.iloc[:int(len(datafram.date)*0.8)]\n",
    "test = datafram.iloc[int(len(datafram.date)*0.8):]"
   ]
  },
  {
   "cell_type": "code",
   "execution_count": 203,
   "metadata": {},
   "outputs": [
    {
     "data": {
      "text/plain": [
       "1069"
      ]
     },
     "execution_count": 203,
     "metadata": {},
     "output_type": "execute_result"
    }
   ],
   "source": [
    "len(label_down)"
   ]
  },
  {
   "cell_type": "markdown",
   "metadata": {},
   "source": [
    "# Knn演算法＆文章向量化"
   ]
  },
  {
   "cell_type": "code",
   "execution_count": 186,
   "metadata": {},
   "outputs": [],
   "source": [
    "#定義函式\n",
    "#將文章向量化，每個維度是該關鍵字的TF值\n",
    "def to_vector(x):\n",
    "    import math\n",
    "    vector_space = []\n",
    "    for i in range(len(words)):\n",
    "        if type(x)==float:\n",
    "            continue\n",
    "        if x.count(words[i]) !=0:\n",
    "            log_value_TF = 1 + math.log10(x.count(words[i]))\n",
    "            \n",
    "        else:\n",
    "            log_value_TF = 0\n",
    "            \n",
    "        vector_space.append(log_value_TF)\n",
    "    return vector_space\n",
    "\n",
    "#計算兩文章向量的餘弦相似度。\n",
    "def cos (x,y):\n",
    "    import math\n",
    "    t = 0\n",
    "    b_x = 0\n",
    "    b_y = 0\n",
    "    for i in range(len(x)):\n",
    "        t += x[i]*y[i]\n",
    "        b_x += x[i]**2\n",
    "        b_y += y[i]**2\n",
    "    if (math.sqrt(b_x)*math.sqrt(b_y)) == 0 :\n",
    "        output = 0\n",
    "    else:\n",
    "        output = t/ (math.sqrt(b_x)*math.sqrt(b_y))\n",
    "    return output\n",
    "\n",
    "#將一測試文章丟入訓練集中，計算與餘弦相似度與之最接近的7筆文章\n",
    "def Knn (x):\n",
    "    output = \"\"\n",
    "    t = to_vector(x)\n",
    "    Knn_Rank = [0,0,0,0,0,0,0]\n",
    "    text = [0,0,0,0,0,0,0]\n",
    "    vote = [\"0\",\"0\",\"0\",\"0\",\"0\",\"0\",\"0\"]\n",
    "    for i in range(len(train.content)):\n",
    "        c = cos(to_vector(train.content.iloc[i]),t)\n",
    "        for j in range(7):\n",
    "            if c>Knn_Rank[j] and int(c)!=1  :\n",
    "                for k in range(6,j,-1):\n",
    "                    Knn_Rank[k] = Knn_Rank[k-1]\n",
    "                    text[k] = text[k-1]\n",
    "                    vote[j] = vote[k-1]\n",
    "                Knn_Rank[j] = c\n",
    "                text[j] = i\n",
    "                vote[j] = train.label.iloc[i]\n",
    "                break\n",
    "    if vote.count(\"up\") > vote.count(\"down\"):\n",
    "        ouput = \"up\"\n",
    "    else:\n",
    "        ouput = \"down\"\n",
    "    return ouput"
   ]
  },
  {
   "cell_type": "code",
   "execution_count": 188,
   "metadata": {
    "scrolled": true
   },
   "outputs": [],
   "source": [
    "#依序將測試集的文章透過Knn演算法比對\n",
    "P=[]\n",
    "for i in range(len(test.content)):\n",
    "    P.append(Knn(test.content.iloc[i]))\n",
    "    "
   ]
  },
  {
   "cell_type": "markdown",
   "metadata": {},
   "source": [
    "# 計算準確率"
   ]
  },
  {
   "cell_type": "code",
   "execution_count": 205,
   "metadata": {},
   "outputs": [
    {
     "name": "stdout",
     "output_type": "stream",
     "text": [
      "     真實為漲 真實為跌\n",
      "預測為漲  90     78\n",
      "預測為跌  137     120\n",
      "\n",
      "accuracy =  0.49411764705882355 \n",
      "precision =  0.5357142857142857 \n",
      "recall =  0.3964757709251101\n"
     ]
    }
   ],
   "source": [
    "\n",
    "uu=0  #預測為up 真實為up\n",
    "ud=0  #預測為up 真實為down\n",
    "du=0  #預測為down 真實為up\n",
    "dd=0  #預測為down 真實為down\n",
    "\n",
    "for i in range(len(test.content)):\n",
    "    if P[i] ==\"up\" and test.label.iloc[i]==\"up\":\n",
    "        uu+=1\n",
    "    if P[i] ==\"down\" and test.label.iloc[i]==\"down\":\n",
    "        dd+=1\n",
    "    if P[i] ==\"up\" and test.label.iloc[i]==\"down\":\n",
    "        ud+=1\n",
    "    if P[i] ==\"down\" and test.label.iloc[i]==\"up\":\n",
    "        du+=1\n",
    "accuracy=(uu+dd)/len(P)       # 正確率 accuracy：在所有情況中，正確判斷真假的比例。\n",
    "precision=uu/(uu+ud)          # 精確率 precision：判斷為真的情況下，有多少是真的真。\n",
    "recall=uu/(uu+du)             # 召回率 recall：為真的情況下，有多少被正確判斷出來。 \n",
    "print(\"     真實為漲\",\"真實為跌\")\n",
    "print(\"預測為漲 \",uu,\"   \",ud)\n",
    "print(\"預測為跌 \",du,\"   \",dd)\n",
    "\n",
    "\n",
    "print(\"\\naccuracy = \",accuracy,'\\nprecision = ',precision, \"\\nrecall = \",recall)"
   ]
  }
 ],
 "metadata": {
  "kernelspec": {
   "display_name": "Python 3",
   "language": "python",
   "name": "python3"
  },
  "language_info": {
   "codemirror_mode": {
    "name": "ipython",
    "version": 3
   },
   "file_extension": ".py",
   "mimetype": "text/x-python",
   "name": "python",
   "nbconvert_exporter": "python",
   "pygments_lexer": "ipython3",
   "version": "3.7.4"
  }
 },
 "nbformat": 4,
 "nbformat_minor": 2
}
